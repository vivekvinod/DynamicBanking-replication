{
 "cells": [
  {
   "cell_type": "code",
   "execution_count": null,
   "metadata": {},
   "outputs": [],
   "source": [
    "include(\"Dynamicbanking.jl\") "
   ]
  },
  {
   "cell_type": "markdown",
   "metadata": {},
   "source": [
    "# Plotting the Deposit q"
   ]
  },
  {
   "cell_type": "code",
   "execution_count": null,
   "metadata": {},
   "outputs": [],
   "source": [
    "\n",
    "using Plots\n",
    "\n",
    "plotd = plot(result[:k],result[:j]-(result[:j] .* result[:jk]) , title = \"Deposit q\", label = \"q\")\n",
    "xlabel!(\"Capital/Deposits k\")\n",
    "ylabel!(\"v(k)-v'(k)k\")\n",
    "savefig(plotd,\"file2.png\")\n"
   ]
  },
  {
   "cell_type": "markdown",
   "metadata": {},
   "source": [
    "# Marginal value of capital"
   ]
  },
  {
   "cell_type": "code",
   "execution_count": null,
   "metadata": {},
   "outputs": [],
   "source": [
    "plotd = plot(result[:k], result[:jkk] , title = \"Marginal Value of Equity\", label = \"v'(k)\")\n",
    "xlabel!(\"Capital/Deposits k\")\n",
    "ylabel!(\"v'(k)\")\n",
    "savefig(plotd,\"file1.png\")\n"
   ]
  }
 ],
 "metadata": {
  "kernelspec": {
   "display_name": "Julia 1.5.4",
   "language": "julia",
   "name": "julia-1.5"
  },
  "language_info": {
   "file_extension": ".jl",
   "mimetype": "application/julia",
   "name": "julia",
   "version": "1.5.4"
  }
 },
 "nbformat": 4,
 "nbformat_minor": 4
}
